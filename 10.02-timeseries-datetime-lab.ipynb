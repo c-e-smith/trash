{
 "cells": [
  {
   "cell_type": "markdown",
   "metadata": {},
   "source": [
    "<img src=\"http://imgur.com/1ZcRyrc.png\" style=\"float: left; margin: 20px; height: 55px\">\n",
    "\n",
    "# Practice Using Time Series Data and Datetime\n",
    "\n",
    "_Authors: Samuel Stack (DC)_\n",
    "\n",
    "---\n",
    "\n",
    "This lab covers the basics of manipulating datetime objects and using datetimes in Pandas."
   ]
  },
  {
   "cell_type": "markdown",
   "metadata": {},
   "source": [
    "### 1) Create a datetime object representing today's date."
   ]
  },
  {
   "cell_type": "code",
   "execution_count": 65,
   "metadata": {},
   "outputs": [],
   "source": [
    "from datetime import datetime\n",
    "from datetime import timedelta\n",
    "import pandas as pd\n",
    "import matplotlib.pyplot as plt\n",
    "%matplotlib inline"
   ]
  },
  {
   "cell_type": "code",
   "execution_count": 7,
   "metadata": {},
   "outputs": [
    {
     "data": {
      "text/plain": [
       "datetime.datetime(2018, 3, 19, 15, 17, 35, 647722)"
      ]
     },
     "execution_count": 7,
     "metadata": {},
     "output_type": "execute_result"
    }
   ],
   "source": [
    "# A:\n",
    "datetime.today()"
   ]
  },
  {
   "cell_type": "markdown",
   "metadata": {},
   "source": [
    "### 2) Write a function to print the day of the week for a datetime object."
   ]
  },
  {
   "cell_type": "code",
   "execution_count": 26,
   "metadata": {},
   "outputs": [],
   "source": [
    "# A:\n",
    "def dow(dt_obj):\n",
    "    days = {\n",
    "        0: 'Monday',\n",
    "        1: 'Tuesday',\n",
    "        2: 'Weds',\n",
    "        3: 'Thurs',\n",
    "        4: 'Fri',\n",
    "        5: 'Sat',\n",
    "        6: 'Sun'\n",
    "    }\n",
    "    return days[dt_obj.weekday()]\n",
    "\n",
    "dow(datetime.today())"
   ]
  },
  {
   "cell_type": "markdown",
   "metadata": {},
   "source": [
    "### 3) What is the Gregorian ordinal representation of today's date? What is the difference in days between the ordinal representation of today's date and the ordinal representation of your birthday?\n",
    "\n",
    "> *Hint: Use `.toordinal()` to get the ordinal representation. This calculates the number of days between your birthday and today's date."
   ]
  },
  {
   "cell_type": "code",
   "execution_count": 28,
   "metadata": {},
   "outputs": [],
   "source": [
    "# A:\n",
    "bd = datetime(1989, 11, 5)"
   ]
  },
  {
   "cell_type": "code",
   "execution_count": 33,
   "metadata": {},
   "outputs": [
    {
     "data": {
      "text/plain": [
       "28.386301369863013"
      ]
     },
     "execution_count": 33,
     "metadata": {},
     "output_type": "execute_result"
    }
   ],
   "source": [
    "# Ryan are 28 years!\n",
    "(datetime.today().toordinal() - bd.toordinal()) / 365"
   ]
  },
  {
   "cell_type": "markdown",
   "metadata": {},
   "source": [
    "### 4) Try using `timedelta()` to shift our datetime object by the following intervals.\n",
    "- One hour ahead.\n",
    "- Three days ago.\n",
    "- One year, three days, two seconds ahead."
   ]
  },
  {
   "cell_type": "code",
   "execution_count": 50,
   "metadata": {},
   "outputs": [
    {
     "name": "stdout",
     "output_type": "stream",
     "text": [
      "now: 2018-03-19 15:41:09.906142\n",
      "+1 hr: 2018-03-19 16:41:09.906154\n"
     ]
    }
   ],
   "source": [
    "# A:\n",
    "# +1 hour\n",
    "offset = timedelta(hours=1)\n",
    "print('now: {}\\n+1 hr: {}'.format(datetime.today(), datetime.today() + offset))"
   ]
  },
  {
   "cell_type": "code",
   "execution_count": 52,
   "metadata": {},
   "outputs": [
    {
     "name": "stdout",
     "output_type": "stream",
     "text": [
      "now: 2018-03-19 15:42:17.376146\n",
      "3 days ago: 2018-03-16 15:42:17.376154\n"
     ]
    }
   ],
   "source": [
    "# 3 days ago\n",
    "offset = timedelta(days=-3)\n",
    "print('now: {}\\n3 days ago: {}'.format(datetime.today(), datetime.today() + offset))"
   ]
  },
  {
   "cell_type": "code",
   "execution_count": 55,
   "metadata": {},
   "outputs": [
    {
     "name": "stdout",
     "output_type": "stream",
     "text": [
      "now: 2018-03-19 15:45:48.561772\n",
      "+1y +3d +2s: 2021-03-21 15:45:50.561778\n"
     ]
    }
   ],
   "source": [
    "# +1y +3d +2s\n",
    "offset = timedelta(days=365*3+3, seconds=2)\n",
    "print('now: {}\\n+1y +3d +2s: {}'.format(datetime.today(), datetime.today() + offset))"
   ]
  },
  {
   "cell_type": "markdown",
   "metadata": {},
   "source": [
    "### 5) Load one of the stock CSVs in the `datasets` folder.\n",
    "\n",
    "Which you choose is up to you!"
   ]
  },
  {
   "cell_type": "code",
   "execution_count": 58,
   "metadata": {},
   "outputs": [
    {
     "name": "stdout",
     "output_type": "stream",
     "text": [
      "aapl.csv  goog.csv  vow.csv\r\n"
     ]
    }
   ],
   "source": [
    "# A:\n",
    "!ls datasets"
   ]
  },
  {
   "cell_type": "markdown",
   "metadata": {},
   "source": [
    "### 6) Take a high-level look at the data. Describe it. What are we looking at? \n",
    "\n",
    "Use a plotting function to provide a good visual."
   ]
  },
  {
   "cell_type": "code",
   "execution_count": 60,
   "metadata": {},
   "outputs": [
    {
     "data": {
      "text/html": [
       "<div>\n",
       "<style scoped>\n",
       "    .dataframe tbody tr th:only-of-type {\n",
       "        vertical-align: middle;\n",
       "    }\n",
       "\n",
       "    .dataframe tbody tr th {\n",
       "        vertical-align: top;\n",
       "    }\n",
       "\n",
       "    .dataframe thead th {\n",
       "        text-align: right;\n",
       "    }\n",
       "</style>\n",
       "<table border=\"1\" class=\"dataframe\">\n",
       "  <thead>\n",
       "    <tr style=\"text-align: right;\">\n",
       "      <th></th>\n",
       "      <th>Date</th>\n",
       "      <th>Open</th>\n",
       "      <th>High</th>\n",
       "      <th>Low</th>\n",
       "      <th>Close</th>\n",
       "      <th>Volume</th>\n",
       "    </tr>\n",
       "  </thead>\n",
       "  <tbody>\n",
       "    <tr>\n",
       "      <th>0</th>\n",
       "      <td>16-Jan-17</td>\n",
       "      <td>150.05</td>\n",
       "      <td>150.70</td>\n",
       "      <td>147.75</td>\n",
       "      <td>148.40</td>\n",
       "      <td>79341</td>\n",
       "    </tr>\n",
       "    <tr>\n",
       "      <th>1</th>\n",
       "      <td>13-Jan-17</td>\n",
       "      <td>151.85</td>\n",
       "      <td>154.00</td>\n",
       "      <td>149.95</td>\n",
       "      <td>151.75</td>\n",
       "      <td>112464</td>\n",
       "    </tr>\n",
       "    <tr>\n",
       "      <th>2</th>\n",
       "      <td>12-Jan-17</td>\n",
       "      <td>154.05</td>\n",
       "      <td>154.30</td>\n",
       "      <td>148.85</td>\n",
       "      <td>150.70</td>\n",
       "      <td>173155</td>\n",
       "    </tr>\n",
       "    <tr>\n",
       "      <th>3</th>\n",
       "      <td>11-Jan-17</td>\n",
       "      <td>149.05</td>\n",
       "      <td>153.65</td>\n",
       "      <td>148.80</td>\n",
       "      <td>153.15</td>\n",
       "      <td>181285</td>\n",
       "    </tr>\n",
       "    <tr>\n",
       "      <th>4</th>\n",
       "      <td>10-Jan-17</td>\n",
       "      <td>148.05</td>\n",
       "      <td>149.85</td>\n",
       "      <td>146.60</td>\n",
       "      <td>148.10</td>\n",
       "      <td>137786</td>\n",
       "    </tr>\n",
       "  </tbody>\n",
       "</table>\n",
       "</div>"
      ],
      "text/plain": [
       "        Date    Open    High     Low   Close  Volume\n",
       "0  16-Jan-17  150.05  150.70  147.75  148.40   79341\n",
       "1  13-Jan-17  151.85  154.00  149.95  151.75  112464\n",
       "2  12-Jan-17  154.05  154.30  148.85  150.70  173155\n",
       "3  11-Jan-17  149.05  153.65  148.80  153.15  181285\n",
       "4  10-Jan-17  148.05  149.85  146.60  148.10  137786"
      ]
     },
     "execution_count": 60,
     "metadata": {},
     "output_type": "execute_result"
    }
   ],
   "source": [
    "# A:\n",
    "df = pd.read_csv('./datasets/vow.csv')\n",
    "df.head()"
   ]
  },
  {
   "cell_type": "code",
   "execution_count": 63,
   "metadata": {},
   "outputs": [],
   "source": [
    "# A: convert date col to datetime\n",
    "df['Date'] = pd.to_datetime(df.copy()['Date'])"
   ]
  },
  {
   "cell_type": "code",
   "execution_count": 71,
   "metadata": {},
   "outputs": [
    {
     "data": {
      "text/plain": [
       "<matplotlib.axes._subplots.AxesSubplot at 0x7f6412dd0b00>"
      ]
     },
     "execution_count": 71,
     "metadata": {},
     "output_type": "execute_result"
    },
    {
     "data": {
      "image/png": "[encoded data removed]",
      "text/plain": [
       "<matplotlib.figure.Figure at 0x7f6412dfbfd0>"
      ]
     },
     "metadata": {},
     "output_type": "display_data"
    }
   ],
   "source": [
    "df.plot(x='Date', y='Close', kind='line')"
   ]
  },
  {
   "cell_type": "markdown",
   "metadata": {},
   "source": [
    "### 7) Examine the Date column. Make it the index of the DataFrame.\n",
    "\n",
    "Making the index a datetime allows us to easily order the data by time. Doing this will result in six Series objects indexed by DateTime — a literal time series!"
   ]
  },
  {
   "cell_type": "code",
   "execution_count": 74,
   "metadata": {},
   "outputs": [],
   "source": [
    "# A:\n",
    "df.set_index('Date', drop=False, inplace=True)"
   ]
  },
  {
   "cell_type": "markdown",
   "metadata": {},
   "source": [
    "### 8) Add columns with useful data extracted from the DateTime index.\n",
    "\n",
    "Create at least three columns; one for day, month, and year.\n"
   ]
  },
  {
   "cell_type": "code",
   "execution_count": 80,
   "metadata": {},
   "outputs": [],
   "source": [
    "# A:\n",
    "df['Day'] = df['Date'].dt.day\n",
    "df['Month'] = df['Date'].dt.month\n",
    "df['Year'] = df['Date'].dt.year"
   ]
  },
  {
   "cell_type": "code",
   "execution_count": 81,
   "metadata": {},
   "outputs": [
    {
     "data": {
      "text/html": [
       "<div>\n",
       "<style scoped>\n",
       "    .dataframe tbody tr th:only-of-type {\n",
       "        vertical-align: middle;\n",
       "    }\n",
       "\n",
       "    .dataframe tbody tr th {\n",
       "        vertical-align: top;\n",
       "    }\n",
       "\n",
       "    .dataframe thead th {\n",
       "        text-align: right;\n",
       "    }\n",
       "</style>\n",
       "<table border=\"1\" class=\"dataframe\">\n",
       "  <thead>\n",
       "    <tr style=\"text-align: right;\">\n",
       "      <th></th>\n",
       "      <th>Date</th>\n",
       "      <th>Open</th>\n",
       "      <th>High</th>\n",
       "      <th>Low</th>\n",
       "      <th>Close</th>\n",
       "      <th>Volume</th>\n",
       "      <th>Day</th>\n",
       "      <th>Month</th>\n",
       "      <th>Year</th>\n",
       "    </tr>\n",
       "    <tr>\n",
       "      <th>Date</th>\n",
       "      <th></th>\n",
       "      <th></th>\n",
       "      <th></th>\n",
       "      <th></th>\n",
       "      <th></th>\n",
       "      <th></th>\n",
       "      <th></th>\n",
       "      <th></th>\n",
       "      <th></th>\n",
       "    </tr>\n",
       "  </thead>\n",
       "  <tbody>\n",
       "    <tr>\n",
       "      <th>2017-01-16</th>\n",
       "      <td>2017-01-16</td>\n",
       "      <td>150.05</td>\n",
       "      <td>150.7</td>\n",
       "      <td>147.75</td>\n",
       "      <td>148.40</td>\n",
       "      <td>79341</td>\n",
       "      <td>16</td>\n",
       "      <td>1</td>\n",
       "      <td>2017</td>\n",
       "    </tr>\n",
       "    <tr>\n",
       "      <th>2017-01-13</th>\n",
       "      <td>2017-01-13</td>\n",
       "      <td>151.85</td>\n",
       "      <td>154.0</td>\n",
       "      <td>149.95</td>\n",
       "      <td>151.75</td>\n",
       "      <td>112464</td>\n",
       "      <td>13</td>\n",
       "      <td>1</td>\n",
       "      <td>2017</td>\n",
       "    </tr>\n",
       "  </tbody>\n",
       "</table>\n",
       "</div>"
      ],
      "text/plain": [
       "                 Date    Open   High     Low   Close  Volume  Day  Month  Year\n",
       "Date                                                                          \n",
       "2017-01-16 2017-01-16  150.05  150.7  147.75  148.40   79341   16      1  2017\n",
       "2017-01-13 2017-01-13  151.85  154.0  149.95  151.75  112464   13      1  2017"
      ]
     },
     "execution_count": 81,
     "metadata": {},
     "output_type": "execute_result"
    }
   ],
   "source": [
    "df.head(2)"
   ]
  },
  {
   "cell_type": "markdown",
   "metadata": {},
   "source": [
    "### 9) Create a subset of the data containing only 2017 dates."
   ]
  },
  {
   "cell_type": "code",
   "execution_count": 83,
   "metadata": {},
   "outputs": [
    {
     "data": {
      "text/html": [
       "<div>\n",
       "<style scoped>\n",
       "    .dataframe tbody tr th:only-of-type {\n",
       "        vertical-align: middle;\n",
       "    }\n",
       "\n",
       "    .dataframe tbody tr th {\n",
       "        vertical-align: top;\n",
       "    }\n",
       "\n",
       "    .dataframe thead th {\n",
       "        text-align: right;\n",
       "    }\n",
       "</style>\n",
       "<table border=\"1\" class=\"dataframe\">\n",
       "  <thead>\n",
       "    <tr style=\"text-align: right;\">\n",
       "      <th></th>\n",
       "      <th>Date</th>\n",
       "      <th>Open</th>\n",
       "      <th>High</th>\n",
       "      <th>Low</th>\n",
       "      <th>Close</th>\n",
       "      <th>Volume</th>\n",
       "      <th>Day</th>\n",
       "      <th>Month</th>\n",
       "      <th>Year</th>\n",
       "    </tr>\n",
       "    <tr>\n",
       "      <th>Date</th>\n",
       "      <th></th>\n",
       "      <th></th>\n",
       "      <th></th>\n",
       "      <th></th>\n",
       "      <th></th>\n",
       "      <th></th>\n",
       "      <th></th>\n",
       "      <th></th>\n",
       "      <th></th>\n",
       "    </tr>\n",
       "  </thead>\n",
       "  <tbody>\n",
       "    <tr>\n",
       "      <th>2017-01-16</th>\n",
       "      <td>2017-01-16</td>\n",
       "      <td>150.05</td>\n",
       "      <td>150.7</td>\n",
       "      <td>147.75</td>\n",
       "      <td>148.40</td>\n",
       "      <td>79341</td>\n",
       "      <td>16</td>\n",
       "      <td>1</td>\n",
       "      <td>2017</td>\n",
       "    </tr>\n",
       "    <tr>\n",
       "      <th>2017-01-13</th>\n",
       "      <td>2017-01-13</td>\n",
       "      <td>151.85</td>\n",
       "      <td>154.0</td>\n",
       "      <td>149.95</td>\n",
       "      <td>151.75</td>\n",
       "      <td>112464</td>\n",
       "      <td>13</td>\n",
       "      <td>1</td>\n",
       "      <td>2017</td>\n",
       "    </tr>\n",
       "  </tbody>\n",
       "</table>\n",
       "</div>"
      ],
      "text/plain": [
       "                 Date    Open   High     Low   Close  Volume  Day  Month  Year\n",
       "Date                                                                          \n",
       "2017-01-16 2017-01-16  150.05  150.7  147.75  148.40   79341   16      1  2017\n",
       "2017-01-13 2017-01-13  151.85  154.0  149.95  151.75  112464   13      1  2017"
      ]
     },
     "execution_count": 83,
     "metadata": {},
     "output_type": "execute_result"
    }
   ],
   "source": [
    "# A:\n",
    "df[df['Year'] == 2017].head(2)"
   ]
  },
  {
   "cell_type": "markdown",
   "metadata": {},
   "source": [
    "### 10) [Example] Date ranges and frequencies.\n",
    "\n",
    "Explore the following built-in methods.\n",
    "- What does `asfreq` do?\n",
    "> - _Converts time series to specified frequency._\n",
    "\n",
    "- What does `resample` do?\n",
    "> - _This is a convenience method for frequency conversion and the resampling of time series. Object must have a datetime-like index (DatetimeIndex, PeriodIndex, or TimedeltaIndex) or pass datetime-like values to the `on` or `level` keyword._\n",
    "\n",
    "We can also create our own date ranges using a built-in function, `date_range()`. The `periods` and `freq` keyword arguments grant the user fine-grained control over the resulting values. To reset the time data, use the `normalize=True` directive.\n"
   ]
  },
  {
   "cell_type": "code",
   "execution_count": 84,
   "metadata": {
    "collapsed": true
   },
   "outputs": [
    {
     "data": {
      "text/plain": [
       "DatetimeIndex(['2016-03-01', '2016-03-02', '2016-03-03', '2016-03-04',\n",
       "               '2016-03-05', '2016-03-06', '2016-03-07', '2016-03-08',\n",
       "               '2016-03-09', '2016-03-10', '2016-03-11', '2016-03-12',\n",
       "               '2016-03-13', '2016-03-14', '2016-03-15', '2016-03-16',\n",
       "               '2016-03-17', '2016-03-18', '2016-03-19', '2016-03-20',\n",
       "               '2016-03-21', '2016-03-22', '2016-03-23', '2016-03-24',\n",
       "               '2016-03-25', '2016-03-26', '2016-03-27', '2016-03-28',\n",
       "               '2016-03-29', '2016-03-30', '2016-03-31', '2016-04-01',\n",
       "               '2016-04-02', '2016-04-03', '2016-04-04', '2016-04-05',\n",
       "               '2016-04-06', '2016-04-07', '2016-04-08', '2016-04-09',\n",
       "               '2016-04-10', '2016-04-11', '2016-04-12', '2016-04-13',\n",
       "               '2016-04-14', '2016-04-15', '2016-04-16', '2016-04-17',\n",
       "               '2016-04-18', '2016-04-19', '2016-04-20', '2016-04-21',\n",
       "               '2016-04-22', '2016-04-23', '2016-04-24', '2016-04-25',\n",
       "               '2016-04-26', '2016-04-27', '2016-04-28', '2016-04-29',\n",
       "               '2016-04-30', '2016-05-01', '2016-05-02', '2016-05-03',\n",
       "               '2016-05-04', '2016-05-05', '2016-05-06', '2016-05-07',\n",
       "               '2016-05-08', '2016-05-09', '2016-05-10', '2016-05-11',\n",
       "               '2016-05-12', '2016-05-13', '2016-05-14', '2016-05-15',\n",
       "               '2016-05-16', '2016-05-17', '2016-05-18', '2016-05-19',\n",
       "               '2016-05-20', '2016-05-21', '2016-05-22', '2016-05-23',\n",
       "               '2016-05-24', '2016-05-25', '2016-05-26', '2016-05-27',\n",
       "               '2016-05-28', '2016-05-29', '2016-05-30', '2016-05-31',\n",
       "               '2016-06-01'],\n",
       "              dtype='datetime64[ns]', freq='D')"
      ]
     },
     "execution_count": 84,
     "metadata": {},
     "output_type": "execute_result"
    }
   ],
   "source": [
    "# from a to b, increment by days\n",
    "pd.date_range('3/1/2016', '6/1/2016')"
   ]
  },
  {
   "cell_type": "code",
   "execution_count": 85,
   "metadata": {
    "collapsed": true
   },
   "outputs": [
    {
     "data": {
      "text/plain": [
       "DatetimeIndex(['2016-03-01', '2016-03-02', '2016-03-03', '2016-03-04',\n",
       "               '2016-03-05', '2016-03-06', '2016-03-07', '2016-03-08',\n",
       "               '2016-03-09', '2016-03-10', '2016-03-11', '2016-03-12',\n",
       "               '2016-03-13', '2016-03-14', '2016-03-15', '2016-03-16',\n",
       "               '2016-03-17', '2016-03-18', '2016-03-19', '2016-03-20'],\n",
       "              dtype='datetime64[ns]', freq='D')"
      ]
     },
     "execution_count": 85,
     "metadata": {},
     "output_type": "execute_result"
    }
   ],
   "source": [
    "# from a, increment 20 days\n",
    "pd.date_range(start='3/1/2016', periods=20)"
   ]
  },
  {
   "cell_type": "code",
   "execution_count": 86,
   "metadata": {
    "collapsed": true
   },
   "outputs": [
    {
     "data": {
      "text/plain": [
       "DatetimeIndex(['2016-05-13', '2016-05-14', '2016-05-15', '2016-05-16',\n",
       "               '2016-05-17', '2016-05-18', '2016-05-19', '2016-05-20',\n",
       "               '2016-05-21', '2016-05-22', '2016-05-23', '2016-05-24',\n",
       "               '2016-05-25', '2016-05-26', '2016-05-27', '2016-05-28',\n",
       "               '2016-05-29', '2016-05-30', '2016-05-31', '2016-06-01'],\n",
       "              dtype='datetime64[ns]', freq='D')"
      ]
     },
     "execution_count": 86,
     "metadata": {},
     "output_type": "execute_result"
    }
   ],
   "source": [
    "# from b, backward 20 days\n",
    "pd.date_range(end='6/1/2016', periods=20)"
   ]
  },
  {
   "cell_type": "code",
   "execution_count": 89,
   "metadata": {},
   "outputs": [
    {
     "data": {
      "text/plain": [
       "DatetimeIndex(['2018-03-19', '2018-03-26', '2018-04-02', '2018-04-09'], dtype='datetime64[ns]', freq='W-MON')"
      ]
     },
     "execution_count": 89,
     "metadata": {},
     "output_type": "execute_result"
    }
   ],
   "source": [
    "# Frequency specifies the length of the periods — the default, \"D,\" \n",
    "# being daily. We understand that BM is bimonthly.\n",
    "# http://pandas.pydata.org/pandas-docs/stable/timeseries.html#offset-aliases\n",
    "pd.date_range('3/19/2018', '4/11/2018', freq='W-MON')"
   ]
  },
  {
   "cell_type": "code",
   "execution_count": 92,
   "metadata": {},
   "outputs": [
    {
     "data": {
      "text/plain": [
       "DatetimeIndex(['2012-03-07', '2012-03-08', '2012-03-09', '2012-03-10',\n",
       "               '2012-03-11', '2012-03-12'],\n",
       "              dtype='datetime64[ns]', freq='D')"
      ]
     },
     "execution_count": 92,
     "metadata": {},
     "output_type": "execute_result"
    }
   ],
   "source": [
    "# Normalize creates normal daily times and will set the \n",
    "# default time for each day as midnight.\n",
    "pd.date_range('3/7/2012 12:56:31', periods=6, normalize=True)"
   ]
  },
  {
   "cell_type": "markdown",
   "metadata": {},
   "source": [
    "We are also given a `Period` object, which can be used to represent a time interval. The `Period` object consists of a start time and an end time and can be created by providing a start time and a given frequency."
   ]
  },
  {
   "cell_type": "code",
   "execution_count": 94,
   "metadata": {},
   "outputs": [
    {
     "name": "stdout",
     "output_type": "stream",
     "text": [
      "2016-03-01 00:00:00\n",
      "2016-03-31 23:59:59.999999999\n"
     ]
    }
   ],
   "source": [
    "# Our start period was March 2016 and our period frequency is months.\n",
    "march_2016 = pd.Period('2016-03', freq='M')\n",
    "\n",
    "print(march_2016.start_time)\n",
    "print(march_2016.end_time)"
   ]
  }
 ],
 "metadata": {
  "kernelspec": {
   "display_name": "Python 3",
   "language": "python",
   "name": "python3"
  },
  "language_info": {
   "codemirror_mode": {
    "name": "ipython",
    "version": 3
   },
   "file_extension": ".py",
   "mimetype": "text/x-python",
   "name": "python",
   "nbconvert_exporter": "python",
   "pygments_lexer": "ipython3",
   "version": "3.6.3"
  },
  "toc": {
   "nav_menu": {},
   "number_sections": true,
   "sideBar": true,
   "skip_h1_title": false,
   "title_cell": "Table of Contents",
   "title_sidebar": "Contents",
   "toc_cell": false,
   "toc_position": {},
   "toc_section_display": true,
   "toc_window_display": false
  }
 },
 "nbformat": 4,
 "nbformat_minor": 2
}
