{
 "cells": [
  {
   "cell_type": "markdown",
   "metadata": {},
   "source": [
    "# Introduction to Correlated Data Lab"
   ]
  },
  {
   "cell_type": "markdown",
   "metadata": {},
   "source": [
    "## Correlated States\n",
    "\n",
    "Read [this](http://fivethirtyeight.com/features/why-fivethirtyeight-gave-trump-a-better-chance-than-almost-anyone-else/) FiveThirtyEight article about 2016 polling.\n",
    "\n",
    "Suppose you were advising a Presidential candidate's pollster in the 2020 election. \n",
    "\n",
    "The pollster took polls in every state/region with electoral votes, treated each state as \"independent coin flips,\" and estimated the probability of your candidate winning by simulating 1,000,000 elections. (This is an example of [Monte Carlo simulations](http://www.palisade.com/risk/monte_carlo_simulation.asp)!)\n",
    "\n",
    "**Question:** What suggestions do you have for the pollster? Specifically, discuss how appropriate the assumption of independence is in this case and suggest improvements if you feel any are necessary."
   ]
  },
  {
   "cell_type": "markdown",
   "metadata": {
    "collapsed": true
   },
   "source": [
    "**Answer:**\n",
    "- more tolerance for a swing\n",
    "- weighting states by electoral votes and 'swingyness factor' (volatility index)\n",
    "- consider diversifying the methods with which you acquire data (phone, fax, telegram, carrier pigeon) different locations for polling that are representative of the proportional demographic you are trying to target (i.e. trump fans aren't shopping at the whole foods and going to yoga)\n",
    "- clustering across the country, viewing voting tendencies without regard to state boundaries\n",
    "- vary cluster size such that each cluster could be considered independent"
   ]
  },
  {
   "cell_type": "markdown",
   "metadata": {},
   "source": [
    "## Correlated Stock Prices\n",
    "\n",
    "You're interested in the performance of a particular stock. You use the [autocorrelation function](http://pandas.pydata.org/pandas-docs/stable/generated/pandas.Series.autocorr.html) in Pandas to assess how autocorrelated your stock's values are.\n",
    "\n",
    "Autocorrelation makes explicit the idea of temporal correlation we discussed previously. Suppose we wanted to see how correlated a stock's prices are with the immediately preceding day's stock prices. \n",
    "\n",
    "| Day | Price | Price with Lag = 1 | Price with Lag = 2 |\n",
    "|-----|-------|--------------------|--------------------|\n",
    "| 1   | 25    | NA                 | NA                 |\n",
    "| 2   | 26    | 25                 | NA                 |\n",
    "| 3   | 28    | 26                 | 25                 |\n",
    "| 4   | 24    | 28                 | 26                 |\n",
    "| 5   | 23    | 24                 | 28                 |\n",
    "\n",
    "Autocorrelation with a lag of 1 will calculate the correlation between column \"Price\" and column \"Price with Lag = 1.\" Autocorrelation with a lag of $k$ will calculate the correlation between stock price and the stock price of $k$ days before in a similar manner.\n",
    "\n",
    "I build a loop that iterates through days (we'll assume our stock price is the closing price at every day) 1 to 365 to assess how correlated a stock price is with the stock price from $i$ days ago. (Sample code seen below.)\n",
    "\n",
    "```\n",
    "for i in range(1, 366):\n",
    "    print(df[stock_prices].autocorr(lag=i))\n",
    "```"
   ]
  },
  {
   "cell_type": "markdown",
   "metadata": {},
   "source": [
    "**Question:** Suppose my highest values of autocorrelation are found when $i = 1, 7, 30, 365$. What do each of these suggest about the performance of this particular stock?"
   ]
  },
  {
   "cell_type": "markdown",
   "metadata": {
    "collapsed": true
   },
   "source": [
    "**Answer:** For values of 1, 7, 30, and 365, we'd likely conclude that there is a correlation in the price at daily lags (day prior), weekly, monthly, and yearly intervals"
   ]
  },
  {
   "cell_type": "code",
   "execution_count": 1,
   "metadata": {},
   "outputs": [
    {
     "name": "stdout",
     "output_type": "stream",
     "text": [
      "all_stocks_5yr.csv  README.md  starter-code.ipynb\r\n"
     ]
    }
   ],
   "source": [
    "!ls"
   ]
  },
  {
   "cell_type": "code",
   "execution_count": 30,
   "metadata": {},
   "outputs": [],
   "source": [
    "import pandas as pd\n",
    "import matplotlib.pyplot as plt\n",
    "\n",
    "%matplotlib inline"
   ]
  },
  {
   "cell_type": "code",
   "execution_count": 3,
   "metadata": {},
   "outputs": [],
   "source": [
    "df = pd.read_csv('./all_stocks_5yr.csv')\n",
    "\n",
    "df['date'] = pd.to_datetime(df.copy()['date'])\n",
    "\n",
    "# create a subset of the total data with just amazon\n",
    "df_amzn = df[df['Name'] == 'AMZN']\n",
    "\n",
    "# free up some sweet, sweet space\n",
    "df = None\n",
    "\n",
    "# make sure the dates are sorted, newest first\n",
    "df_amzn = df_amzn.copy().sort_values('date')\n",
    "\n",
    "df_amzn.head(2)"
   ]
  },
  {
   "cell_type": "code",
   "execution_count": 34,
   "metadata": {},
   "outputs": [
    {
     "data": {
      "image/png": "[encoded data removed]",
      "text/plain": [
       "<matplotlib.figure.Figure at 0x7f8d1d2ece80>"
      ]
     },
     "metadata": {},
     "output_type": "display_data"
    }
   ],
   "source": [
    "lags = []\n",
    "cc = []\n",
    "for i in range (1, 365):\n",
    "    lags.append(i)\n",
    "    cc.append(df_amzn['close'].autocorr(i))\n",
    "#     print('{} days lag, {} coef'.format(i, df_amzn['close'].autocorr(i)))\n",
    "\n",
    "df_lag = pd.DataFrame({'lags': lags, 'cc': cc})\n",
    "\n",
    "plt.scatter(df_lag['lags'], df_lag['cc'])\n",
    "plt.xlabel('Lags [days]')\n",
    "plt.ylabel('Correlation [0->1]')\n",
    "plt.show()"
   ]
  },
  {
   "cell_type": "markdown",
   "metadata": {},
   "source": [
    "Stock prices vary quite rapidly. Looking at almost any plot of stock price over time, we'll see a very \"wiggly\" function that moves around erratically. Building a model for this can be difficult.\n",
    "\n",
    "One way to \"de-noise\" or \"smooth\" this is to create a [moving average](http://www.investopedia.com/terms/m/movingaverage.asp) of stock prices. Suppose I wanted to create a moving average of stock prices across $k$ days. In this case, I create a new column that takes the current day and $k-1$ previous days (for $k$ total days) and average the stock prices of these days.\n",
    "\n",
    "For example, I have a column of stock prices and a column associated with a moving average for three days. Then, my row for Day 5 includes the Day 5 stock price and the average of Day 3, Day 4, and Day 5 stock prices. (We'll go more in detail with this later.)\n",
    "\n",
    "| Day | Price | Moving Average k = 3 |\n",
    "|-----|-------|----------------------|\n",
    "| 1   | 25    | NA                   |\n",
    "| 2   | 26    | NA                   |\n",
    "| 3   | 28    | 26.33                |\n",
    "| 4   | 24    | 26                   |\n",
    "| 5   | 23    | 25                   |\n",
    "\n",
    "**Question:** As the number of periods $k$ increases, how do I expect my plotted curve to change?"
   ]
  },
  {
   "cell_type": "markdown",
   "metadata": {
    "collapsed": true
   },
   "source": [
    "**Answer:**"
   ]
  },
  {
   "cell_type": "code",
   "execution_count": 69,
   "metadata": {},
   "outputs": [],
   "source": [
    "# drop cols if they're already there\n",
    "try:\n",
    "    df_amzn.drop([3, 5, 10], axis=1, inplace=True)\n",
    "except:\n",
    "    pass"
   ]
  },
  {
   "cell_type": "code",
   "execution_count": 70,
   "metadata": {},
   "outputs": [],
   "source": [
    "for ma in [3, 5, 10]:\n",
    "    df_amzn[ma] = df_amzn['close'].rolling(window=ma, center=True).mean()"
   ]
  },
  {
   "cell_type": "code",
   "execution_count": 71,
   "metadata": {},
   "outputs": [
    {
     "data": {
      "text/html": [
       "<div>\n",
       "<style scoped>\n",
       "    .dataframe tbody tr th:only-of-type {\n",
       "        vertical-align: middle;\n",
       "    }\n",
       "\n",
       "    .dataframe tbody tr th {\n",
       "        vertical-align: top;\n",
       "    }\n",
       "\n",
       "    .dataframe thead th {\n",
       "        text-align: right;\n",
       "    }\n",
       "</style>\n",
       "<table border=\"1\" class=\"dataframe\">\n",
       "  <thead>\n",
       "    <tr style=\"text-align: right;\">\n",
       "      <th></th>\n",
       "      <th>46387</th>\n",
       "      <th>46388</th>\n",
       "      <th>46389</th>\n",
       "      <th>46390</th>\n",
       "      <th>46391</th>\n",
       "      <th>46392</th>\n",
       "      <th>46393</th>\n",
       "      <th>46394</th>\n",
       "      <th>46395</th>\n",
       "      <th>46396</th>\n",
       "      <th>46397</th>\n",
       "      <th>46398</th>\n",
       "    </tr>\n",
       "  </thead>\n",
       "  <tbody>\n",
       "    <tr>\n",
       "      <th>close</th>\n",
       "      <td>261.95</td>\n",
       "      <td>257.210000</td>\n",
       "      <td>258.700000</td>\n",
       "      <td>269.470000</td>\n",
       "      <td>269.240000</td>\n",
       "      <td>265.090000</td>\n",
       "      <td>269.750000</td>\n",
       "      <td>266.410000</td>\n",
       "      <td>265.940000</td>\n",
       "      <td>265.420000</td>\n",
       "      <td>259.870</td>\n",
       "      <td>259.360000</td>\n",
       "    </tr>\n",
       "    <tr>\n",
       "      <th>3</th>\n",
       "      <td>NaN</td>\n",
       "      <td>259.286667</td>\n",
       "      <td>261.793333</td>\n",
       "      <td>265.803333</td>\n",
       "      <td>267.933333</td>\n",
       "      <td>268.026667</td>\n",
       "      <td>267.083333</td>\n",
       "      <td>267.366667</td>\n",
       "      <td>265.923333</td>\n",
       "      <td>263.743333</td>\n",
       "      <td>261.550</td>\n",
       "      <td>260.826667</td>\n",
       "    </tr>\n",
       "    <tr>\n",
       "      <th>5</th>\n",
       "      <td>NaN</td>\n",
       "      <td>NaN</td>\n",
       "      <td>263.314000</td>\n",
       "      <td>263.942000</td>\n",
       "      <td>266.450000</td>\n",
       "      <td>267.992000</td>\n",
       "      <td>267.286000</td>\n",
       "      <td>266.522000</td>\n",
       "      <td>265.478000</td>\n",
       "      <td>263.400000</td>\n",
       "      <td>262.768</td>\n",
       "      <td>262.434000</td>\n",
       "    </tr>\n",
       "    <tr>\n",
       "      <th>10</th>\n",
       "      <td>NaN</td>\n",
       "      <td>NaN</td>\n",
       "      <td>NaN</td>\n",
       "      <td>NaN</td>\n",
       "      <td>NaN</td>\n",
       "      <td>264.918000</td>\n",
       "      <td>264.710000</td>\n",
       "      <td>264.925000</td>\n",
       "      <td>265.380000</td>\n",
       "      <td>264.860000</td>\n",
       "      <td>264.510</td>\n",
       "      <td>265.312000</td>\n",
       "    </tr>\n",
       "  </tbody>\n",
       "</table>\n",
       "</div>"
      ],
      "text/plain": [
       "        46387       46388       46389       46390       46391       46392  \\\n",
       "close  261.95  257.210000  258.700000  269.470000  269.240000  265.090000   \n",
       "3         NaN  259.286667  261.793333  265.803333  267.933333  268.026667   \n",
       "5         NaN         NaN  263.314000  263.942000  266.450000  267.992000   \n",
       "10        NaN         NaN         NaN         NaN         NaN  264.918000   \n",
       "\n",
       "            46393       46394       46395       46396    46397       46398  \n",
       "close  269.750000  266.410000  265.940000  265.420000  259.870  259.360000  \n",
       "3      267.083333  267.366667  265.923333  263.743333  261.550  260.826667  \n",
       "5      267.286000  266.522000  265.478000  263.400000  262.768  262.434000  \n",
       "10     264.710000  264.925000  265.380000  264.860000  264.510  265.312000  "
      ]
     },
     "execution_count": 71,
     "metadata": {},
     "output_type": "execute_result"
    }
   ],
   "source": [
    "df_amzn[['close', 3, 5, 10]].head(12).T"
   ]
  },
  {
   "cell_type": "code",
   "execution_count": 74,
   "metadata": {},
   "outputs": [
    {
     "data": {
      "text/plain": [
       "264.91800000000001"
      ]
     },
     "execution_count": 74,
     "metadata": {},
     "output_type": "execute_result"
    }
   ],
   "source": [
    "# this is the first 10 days moving \n",
    "# average, first sample (needs 10 days\n",
    "# of data to make a data point)\n",
    "df_amzn['close'][:10].mean()"
   ]
  },
  {
   "cell_type": "code",
   "execution_count": 72,
   "metadata": {},
   "outputs": [
    {
     "data": {
      "image/png": "[encoded data removed]",
      "text/plain": [
       "<matplotlib.figure.Figure at 0x7f8d1c7bb2e8>"
      ]
     },
     "metadata": {},
     "output_type": "display_data"
    }
   ],
   "source": [
    "# I commented out the 3 and 5 day moving avgs to \n",
    "# keep the chart uncluttered\n",
    "plt.plot(df_amzn['date'].iloc[-365:], df_amzn['close'].iloc[-365:])\n",
    "# plt.plot(df_amzn['date'].iloc[-365:], df_amzn[3].iloc[-365:])\n",
    "# plt.plot(df_amzn['date'].iloc[-365:], df_amzn[5].iloc[-365:])\n",
    "plt.plot(df_amzn['date'].iloc[-365:], df_amzn[10].iloc[-365:])\n",
    "plt.xlabel('Date')\n",
    "plt.ylabel('Stock Price [$]')\n",
    "plt.title('Price vs Time, AAPL, 3, 5, 10 rolling mean')\n",
    "plt.show()"
   ]
  },
  {
   "cell_type": "markdown",
   "metadata": {},
   "source": [
    "**Question:** Suppose we use our moving average to predict values of the stock price. As $k$ increases, how is the bias of our predictions affected? As $k$ increases, how is the variance of our predictions affected?"
   ]
  },
  {
   "cell_type": "markdown",
   "metadata": {},
   "source": [
    "**Answer:** The smaller the moving average, the higher variance (lower bias) we'd have. The line is 'mo squiggly'."
   ]
  },
  {
   "cell_type": "markdown",
   "metadata": {},
   "source": [
    "**BONUS:** Recall that convolutional neural networks usually include a convolutional layer and a pooling layer. Suppose we have an array of stock prices and we want to apply a one-dimensional convolutional layer to the data. Specifically, we want to create a moving average of $k$ days. \n",
    "\n",
    "**Question:** What would the filter be here? (Remember that your filter should be fixed; it should not depend on the values of the data you have.)\n",
    "\n",
    "*Hint: Assume you have the data [2, 4, 4, 6, 8] and you want to convolve it to create a moving average for $k = 2$. Your answer should be [3, 4, 5, 7].*"
   ]
  },
  {
   "cell_type": "markdown",
   "metadata": {},
   "source": [
    "**Answer:**"
   ]
  },
  {
   "cell_type": "code",
   "execution_count": 120,
   "metadata": {},
   "outputs": [],
   "source": [
    "from keras.layers import Convolution1D\n",
    "import tensorflow as tffilters, kernel_size, strides=1filters, kernel_size, strides=1"
   ]
  },
  {
   "cell_type": "code",
   "execution_count": 3,
   "metadata": {},
   "outputs": [],
   "source": [
    "import tensorflow as tf\n",
    "\n",
    "tf.layers.conv1d(tf.convert_to_tensor([2, 4, 4, 6, 8]), 2, 2).get_config()"
   ]
  },
  {
   "cell_type": "code",
   "execution_count": 119,
   "metadata": {},
   "outputs": [
    {
     "data": {
      "text/plain": [
       "{'activation': 'linear',\n",
       " 'activity_regularizer': None,\n",
       " 'bias_constraint': None,\n",
       " 'bias_initializer': {'class_name': 'Zeros', 'config': {}},\n",
       " 'bias_regularizer': None,\n",
       " 'dilation_rate': (1,),\n",
       " 'filters': 2,\n",
       " 'kernel_constraint': None,\n",
       " 'kernel_initializer': {'class_name': 'VarianceScaling',\n",
       "  'config': {'distribution': 'uniform',\n",
       "   'mode': 'fan_avg',\n",
       "   'scale': 1.0,\n",
       "   'seed': None}},\n",
       " 'kernel_regularizer': None,\n",
       " 'kernel_size': (2,),\n",
       " 'name': 'conv1d_14',\n",
       " 'padding': 'valid',\n",
       " 'strides': (1,),\n",
       " 'trainable': True,\n",
       " 'use_bias': True}"
      ]
     },
     "execution_count": 119,
     "metadata": {},
     "output_type": "execute_result"
    }
   ],
   "source": [
    "foo.get_config()"
   ]
  },
  {
   "cell_type": "code",
   "execution_count": 114,
   "metadata": {},
   "outputs": [
    {
     "ename": "AttributeError",
     "evalue": "'Conv1D' object has no attribute 'kernel'",
     "output_type": "error",
     "traceback": [
      "\u001b[0;31m---------------------------------------------------------------------------\u001b[0m",
      "\u001b[0;31mAttributeError\u001b[0m                            Traceback (most recent call last)",
      "\u001b[0;32m<ipython-input-114-835c87c37aa1>\u001b[0m in \u001b[0;36m<module>\u001b[0;34m()\u001b[0m\n\u001b[0;32m----> 1\u001b[0;31m \u001b[0mfoo\u001b[0m\u001b[0;34m.\u001b[0m\u001b[0mcall\u001b[0m\u001b[0;34m(\u001b[0m\u001b[0mtf\u001b[0m\u001b[0;34m.\u001b[0m\u001b[0mconvert_to_tensor\u001b[0m\u001b[0;34m(\u001b[0m\u001b[0;34m[\u001b[0m\u001b[0;36m1\u001b[0m\u001b[0;34m,\u001b[0m\u001b[0;36m2\u001b[0m\u001b[0;34m,\u001b[0m\u001b[0;36m3\u001b[0m\u001b[0;34m,\u001b[0m\u001b[0;36m4\u001b[0m\u001b[0;34m,\u001b[0m\u001b[0;36m5\u001b[0m\u001b[0;34m]\u001b[0m\u001b[0;34m)\u001b[0m\u001b[0;34m)\u001b[0m\u001b[0;34m\u001b[0m\u001b[0m\n\u001b[0m",
      "\u001b[0;32m~/miniconda3/envs/ga/lib/python3.6/site-packages/keras/layers/convolutional.py\u001b[0m in \u001b[0;36mcall\u001b[0;34m(self, inputs)\u001b[0m\n\u001b[1;32m    150\u001b[0m             outputs = K.conv1d(\n\u001b[1;32m    151\u001b[0m                 \u001b[0minputs\u001b[0m\u001b[0;34m,\u001b[0m\u001b[0;34m\u001b[0m\u001b[0m\n\u001b[0;32m--> 152\u001b[0;31m                 \u001b[0mself\u001b[0m\u001b[0;34m.\u001b[0m\u001b[0mkernel\u001b[0m\u001b[0;34m,\u001b[0m\u001b[0;34m\u001b[0m\u001b[0m\n\u001b[0m\u001b[1;32m    153\u001b[0m                 \u001b[0mstrides\u001b[0m\u001b[0;34m=\u001b[0m\u001b[0mself\u001b[0m\u001b[0;34m.\u001b[0m\u001b[0mstrides\u001b[0m\u001b[0;34m[\u001b[0m\u001b[0;36m0\u001b[0m\u001b[0;34m]\u001b[0m\u001b[0;34m,\u001b[0m\u001b[0;34m\u001b[0m\u001b[0m\n\u001b[1;32m    154\u001b[0m                 \u001b[0mpadding\u001b[0m\u001b[0;34m=\u001b[0m\u001b[0mself\u001b[0m\u001b[0;34m.\u001b[0m\u001b[0mpadding\u001b[0m\u001b[0;34m,\u001b[0m\u001b[0;34m\u001b[0m\u001b[0m\n",
      "\u001b[0;31mAttributeError\u001b[0m: 'Conv1D' object has no attribute 'kernel'"
     ]
    }
   ],
   "source": [
    "foo.call(tf.convert_to_tensor([1,2,3,4,5]))"
   ]
  }
 ],
 "metadata": {
  "kernelspec": {
   "display_name": "Python 3",
   "language": "python",
   "name": "python3"
  },
  "language_info": {
   "codemirror_mode": {
    "name": "ipython",
    "version": 3
   },
   "file_extension": ".py",
   "mimetype": "text/x-python",
   "name": "python",
   "nbconvert_exporter": "python",
   "pygments_lexer": "ipython3",
   "version": "3.6.3"
  },
  "toc": {
   "nav_menu": {},
   "number_sections": true,
   "sideBar": true,
   "skip_h1_title": false,
   "title_cell": "Table of Contents",
   "title_sidebar": "Contents",
   "toc_cell": false,
   "toc_position": {},
   "toc_section_display": true,
   "toc_window_display": false
  }
 },
 "nbformat": 4,
 "nbformat_minor": 2
}
